{
 "cells": [
  {
   "cell_type": "code",
   "execution_count": null,
   "metadata": {
    "collapsed": true
   },
   "outputs": [],
   "source": [
    "import pandas as pd"
   ]
  },
  {
   "cell_type": "markdown",
   "metadata": {},
   "source": [
    "## Data Cleaning"
   ]
  },
  {
   "cell_type": "markdown",
   "metadata": {},
   "source": [
    "### 1. OECD Data"
   ]
  },
  {
   "cell_type": "markdown",
   "metadata": {},
   "source": [
    "Logic to extract data of pre-selected countries and indicators from raw OECD (The Organisation for Economic Co-operation and Development) raw data"
   ]
  },
  {
   "cell_type": "code",
   "execution_count": null,
   "metadata": {
    "collapsed": true
   },
   "outputs": [],
   "source": [
    "def extract_analysis_data_from_df(df, year):\n",
    "    location = {\n",
    "        'AUS':'Australia', \n",
    "        'USA':'United States',\n",
    "        'CAN':'Canada',\n",
    "        'DEU':'Germany',\n",
    "        'CHE':'Switzerland',\n",
    "        'FRA':'France',\n",
    "        'ESP':'Spain',\n",
    "        'ITA':'Italy',\n",
    "        'SWE':'Sweden',\n",
    "        'GBR':'United Kingdom'\n",
    "    }\n",
    "    indicators = {\n",
    "        'HO_HISH':'Housing expenditure',\n",
    "        'HO_NUMR':'Rooms per person',\n",
    "        'JE_EMPL':'Employment rate',\n",
    "        'JE_LTUR':'Long-term unemployment rate',\n",
    "        'EQ_AIRP':'Air pollution',\n",
    "        'EQ_WATER':'Water quality',\n",
    "        'HS_LEB':'Life expectancy',\n",
    "        'SW_LIFS':'Life satisfaction',\n",
    "        'WL_EWLH':'Employees working very long hours',\n",
    "        'WL_TNOW':'Time devoted to leisure and personal care',\n",
    "        'PS_FSAFEN':'Feeling safe walking alone at night',\n",
    "        'HS_SFRH':'Self-reported health'\n",
    "    }\n",
    "    df_clean = df.loc[df['LOCATION'].isin(location.keys())]\\\n",
    "                .loc[df['INDICATOR'].isin(indicators.keys())]\\\n",
    "                .loc[df['Inequality']=='Total'][['Country','Indicator','Value']]\\\n",
    "                .sort_values(['Country','Indicator'])\n",
    "    df_clean['year'] = year\n",
    "    return df_clean"
   ]
  },
  {
   "cell_type": "markdown",
   "metadata": {},
   "source": [
    "Reading raw OECD data files from 2013 to 2016 into pandas dataframe"
   ]
  },
  {
   "cell_type": "code",
   "execution_count": null,
   "metadata": {
    "collapsed": true
   },
   "outputs": [],
   "source": [
    "df2016 = pd.read_csv(\"./source_files/BLI_2016.csv\")\n",
    "df2015 = pd.read_csv(\"./source_files/BLI_2015.csv\")\n",
    "df2014 = pd.read_csv(\"./source_files/BLI_2014.csv\")\n",
    "df2013 = pd.read_csv(\"./source_files/BLI_2013.csv\")"
   ]
  },
  {
   "cell_type": "markdown",
   "metadata": {},
   "source": [
    "Extracting required records from raw data files"
   ]
  },
  {
   "cell_type": "code",
   "execution_count": null,
   "metadata": {
    "collapsed": false
   },
   "outputs": [],
   "source": [
    "clean_df2016 = extract_analysis_data_from_df(df2016, 2016)\n",
    "clean_df2015 = extract_analysis_data_from_df(df2015, 2015)\n",
    "clean_df2014 = extract_analysis_data_from_df(df2014, 2014)\n",
    "clean_df2013 = extract_analysis_data_from_df(df2013, 2013)"
   ]
  },
  {
   "cell_type": "markdown",
   "metadata": {},
   "source": [
    "Merge cleaned data for all years into a dataframe and save to CSV"
   ]
  },
  {
   "cell_type": "code",
   "execution_count": null,
   "metadata": {
    "collapsed": false
   },
   "outputs": [],
   "source": [
    "frames = [clean_df2016, clean_df2015, clean_df2014, clean_df2013]\n",
    "merged_df = pd.concat(frames)\n",
    "merged_df.to_csv(\"./processed_files/oced_clean_data.csv\",index = False)"
   ]
  },
  {
   "cell_type": "markdown",
   "metadata": {
    "collapsed": false
   },
   "source": [
    "### 2. Immigration Data"
   ]
  },
  {
   "cell_type": "markdown",
   "metadata": {
    "collapsed": false
   },
   "source": [
    "Read raw immigration data retrieved from OECD, extract required indicators for pre-selected countries"
   ]
  },
  {
   "cell_type": "code",
   "execution_count": null,
   "metadata": {
    "collapsed": false
   },
   "outputs": [],
   "source": [
    "df_immigration = pd.read_csv(\"./source_files/OCED_IMMIGRATION.csv\", low_memory=False)\n",
    "variables = ['Inflows of foreign population by nationality',\n",
    "             'Acquisition of nationality by country of former nationality']\n",
    "location = {\n",
    "        'AUS':'Australia', \n",
    "        'USA':'United States',\n",
    "        'CAN':'Canada',\n",
    "        'DEU':'Germany',\n",
    "        'CHE':'Switzerland',\n",
    "        'FRA':'France',\n",
    "        'ESP':'Spain',\n",
    "        'ITA':'Italy',\n",
    "        'SWE':'Sweden',\n",
    "        'GBR':'United Kingdom'\n",
    "    }\n",
    "\n",
    "# For Immigration we are targeting people moved from India to one of the above mentioned countries\n",
    "df_filtered = df_immigration.loc[df_immigration['Country of birth/nationality']=='India']\\\n",
    ".loc[df_immigration['Country'].isin(location.values())]\\\n",
    ".loc[df_immigration['Variable'].isin(variables)][['Variable','Country','Year','Value']]"
   ]
  },
  {
   "cell_type": "markdown",
   "metadata": {},
   "source": [
    "Reformatting immigration data as it has two values for each country - 1. Inflow, 2. Nationality"
   ]
  },
  {
   "cell_type": "code",
   "execution_count": null,
   "metadata": {
    "collapsed": false
   },
   "outputs": [],
   "source": [
    "df_immi_inflow = df_filtered.loc[df_immigration['Variable'] == 'Inflows of foreign population by nationality'][['Country','Year','Value']]\n",
    "df_immi_acq_nationality = df_filtered.loc[df_immigration['Variable'] == 'Acquisition of nationality by country of former nationality'][['Country','Year','Value']]\n",
    "\n",
    "df_immi_inflow.rename(columns={'Value':'Inflow'}, inplace=True)\n",
    "df_immi_acq_nationality.rename(columns={'Value': 'Nationality'}, inplace=True)\n",
    "\n",
    "df_merged = pd.merge(df_immi_inflow, df_immi_acq_nationality, on=['Country','Year'], how='left')"
   ]
  },
  {
   "cell_type": "markdown",
   "metadata": {
    "collapsed": false
   },
   "source": [
    "Calculate % of people recieved nationality based on Inflow and Nationality"
   ]
  },
  {
   "cell_type": "code",
   "execution_count": null,
   "metadata": {
    "collapsed": false
   },
   "outputs": [],
   "source": [
    "df_merged['Perc_In_To_Nationality'] = df_merged['Nationality'] * 100 /df_merged['Inflow']\n",
    "#Replace NaN with 0\n",
    "df_merged = df_merged.fillna(0)"
   ]
  },
  {
   "cell_type": "markdown",
   "metadata": {
    "collapsed": false
   },
   "source": [
    "Write cleaned immigration data to CSV"
   ]
  },
  {
   "cell_type": "code",
   "execution_count": null,
   "metadata": {
    "collapsed": false
   },
   "outputs": [],
   "source": [
    "df_merged.to_csv(\"./processed_files/immigration_data.csv\",index = False)"
   ]
  },
  {
   "cell_type": "markdown",
   "metadata": {
    "collapsed": true
   },
   "source": [
    "### 3. Global Innovation Index"
   ]
  },
  {
   "cell_type": "markdown",
   "metadata": {},
   "source": [
    "Read raw data files into dataframe"
   ]
  },
  {
   "cell_type": "code",
   "execution_count": null,
   "metadata": {
    "collapsed": false
   },
   "outputs": [],
   "source": [
    "location['USA'] = 'United States of America'\n",
    "df_biz = pd.read_csv(\"./source_files/EASE_START_BIZ_2016.csv\")\n",
    "df_gii = pd.read_csv(\"./source_files/GLOBAL_INNOVATION_INDEX_2016.csv\")\n",
    "df_no_terror = pd.read_csv(\"./source_files/POLITICAL_STA_NO_TERROR_2016.csv\")\n",
    "df_rnd = pd.read_csv(\"./source_files/R&D_SPEND_2016.csv\")"
   ]
  },
  {
   "cell_type": "markdown",
   "metadata": {},
   "source": [
    "Filter records for pre-selected countries for all raw dataframes and rename columns to standard schema"
   ]
  },
  {
   "cell_type": "code",
   "execution_count": null,
   "metadata": {
    "collapsed": false
   },
   "outputs": [],
   "source": [
    "df_biz = df_biz.loc[df_biz['Economy'].isin(location.values())][['Economy','Score']]\n",
    "df_biz.rename(columns={'Economy':'Country','Score':'Value'}, inplace=True)\n",
    "df_biz['Indicator'] = \"Ease of starting a new business\""
   ]
  },
  {
   "cell_type": "code",
   "execution_count": null,
   "metadata": {
    "collapsed": false
   },
   "outputs": [],
   "source": [
    "df_gii = df_gii.loc[df_gii['Economy'].isin(location.values())][['Economy','Score']]\n",
    "df_gii.rename(columns={'Economy':'Country','Score':'Value'}, inplace=True)\n",
    "df_gii['Indicator'] = \"Global Innovation Index\""
   ]
  },
  {
   "cell_type": "code",
   "execution_count": null,
   "metadata": {
    "collapsed": false
   },
   "outputs": [],
   "source": [
    "df_no_terror = df_no_terror.loc[df_no_terror['Economy'].isin(location.values())][['Economy','Score']]\n",
    "df_no_terror.rename(columns={'Economy':'Country','Score':'Value'}, inplace=True)\n",
    "df_no_terror['Indicator'] = \"Political Stability/Absence of Terrorism\""
   ]
  },
  {
   "cell_type": "code",
   "execution_count": null,
   "metadata": {
    "collapsed": false
   },
   "outputs": [],
   "source": [
    "df_rnd = df_rnd.loc[df_rnd['Economy'].isin(location.values())][['Economy','Value']]\n",
    "df_rnd.rename(columns={'Economy':'Country'}, inplace=True)\n",
    "df_rnd['Indicator'] = \"R&D Spend - % of GDP\""
   ]
  },
  {
   "cell_type": "markdown",
   "metadata": {},
   "source": [
    "Merge cleaned data into single dataframe and write to CSV"
   ]
  },
  {
   "cell_type": "code",
   "execution_count": null,
   "metadata": {
    "collapsed": true
   },
   "outputs": [],
   "source": [
    "df_gobal_innovation_index = pd.concat([df_biz,df_gii,df_no_terror,df_rnd])"
   ]
  },
  {
   "cell_type": "code",
   "execution_count": null,
   "metadata": {
    "collapsed": false
   },
   "outputs": [],
   "source": [
    "df_gobal_innovation_index.loc[df_gobal_innovation_index['Country'] == 'United States of America', 'Country'] = 'United States'\n",
    "df_gobal_innovation_index.to_csv(\"./processed_files/global_innovation_index.csv\",index = False)"
   ]
  },
  {
   "cell_type": "markdown",
   "metadata": {
    "collapsed": true
   },
   "source": [
    "### 4. Salary"
   ]
  },
  {
   "cell_type": "markdown",
   "metadata": {
    "collapsed": true
   },
   "source": [
    "Read raw data, add calculated filed and write back to CSV"
   ]
  },
  {
   "cell_type": "code",
   "execution_count": null,
   "metadata": {
    "collapsed": true
   },
   "outputs": [],
   "source": [
    "df_salary = pd.read_csv(\"./source_files/SE_SALARY.csv\")\n",
    "df_salary['PERC_MORE_THAN_AVG'] = df_salary['MEDIAN_PAY_SE']*100/df_salary['AVG_INCOME']\n",
    "df_salary.to_csv(\"./processed_files/salary_se.csv\",index = False)"
   ]
  },
  {
   "cell_type": "markdown",
   "metadata": {
    "collapsed": true
   },
   "source": [
    "## Data Transformation/Scaling"
   ]
  },
  {
   "cell_type": "code",
   "execution_count": null,
   "metadata": {
    "collapsed": true
   },
   "outputs": [],
   "source": [
    "from sklearn import preprocessing"
   ]
  },
  {
   "cell_type": "markdown",
   "metadata": {},
   "source": [
    "Scaling is done based on relative distance between values of each indicator for all Countries. I am using scikit-learn `MinMaxScaler` to scale the valeus between 10 and 100. \n",
    "\n",
    "For one indicator, for one year, the country with minimum value will get 10 and the country with maximum value will get 100 as scaled value. Scaled value of all other countries will be assigned based on their relative distance from Min, Max and each other. Please refer http://scikit-learn.org/stable/modules/preprocessing.html#scaling-features-to-a-range for more information."
   ]
  },
  {
   "cell_type": "code",
   "execution_count": null,
   "metadata": {
    "collapsed": true
   },
   "outputs": [],
   "source": [
    "def scale_df(df):\n",
    "    x = df.values #returns a numpy array\n",
    "    # scikit-learn MinMaxScaler is used to scale the valeus between 10 and 100.\n",
    "    # Min value will get 10 and max will get 100. \n",
    "    # All other values will be assigned based on relative distance\n",
    "    min_max_scaler = preprocessing.MinMaxScaler(feature_range=(0.1, 1))\n",
    "    x = x.reshape(-1,1)\n",
    "    x_scaled = min_max_scaler.fit_transform(x)\n",
    "    return x_scaled * 100"
   ]
  },
  {
   "cell_type": "markdown",
   "metadata": {},
   "source": [
    "#### Scaling OECD Data"
   ]
  },
  {
   "cell_type": "code",
   "execution_count": null,
   "metadata": {
    "collapsed": true
   },
   "outputs": [],
   "source": [
    "df = pd.read_csv(\"./processed_files/oced_clean_data.csv\")"
   ]
  },
  {
   "cell_type": "markdown",
   "metadata": {},
   "source": [
    "While comparing countries, an indicator can either be a positive or negative factor. To maintain consistancy in comparision and allow cross comparision between any two indicators, I identified factors which are negative and applied reverse scaling to convert them into positive factors. The code below scales values of each indicator based on either it is a positive or negative."
   ]
  },
  {
   "cell_type": "code",
   "execution_count": null,
   "metadata": {
    "collapsed": false
   },
   "outputs": [],
   "source": [
    "# indicators => key = indicator, value = is key a positive indicator?\n",
    "indicators = {\n",
    "    'Housing expenditure': False,\n",
    "    'Employment rate': True,\n",
    "    'Long-term unemployment rate': False,\n",
    "    'Air pollution': False,\n",
    "    'Water quality': True,\n",
    "    'Life expectancy': True,\n",
    "    'Life satisfaction': True,\n",
    "    'Time devoted to leisure and personal care':True,\n",
    "    'Feeling safe walking alone at night':True,\n",
    "    'Self-reported health': True\n",
    "}\n",
    "\n",
    "oced_years = [2013, 2014, 2015, 2016]\n",
    "df_dict_indicator = {}\n",
    "df_with_scaled_value = []\n",
    "for indicator, is_positive in indicators.iteritems():\n",
    "    for year in oced_years:\n",
    "        tmp_df = df.loc[df['Indicator'] == indicator].loc[df['year'] == year]\n",
    "        if not tmp_df.empty:\n",
    "            if not is_positive:\n",
    "                original_values = tmp_df['Value'].copy(deep=True)\n",
    "                tmp_df['Value'] = tmp_df['Value'].apply(lambda x: 100-x)\n",
    "            tmp_df['ScaledValue'] = scale_df(tmp_df['Value'])\n",
    "            tmp_df['ScaledValue'] = tmp_df['ScaledValue'].round(2)\n",
    "            if not is_positive:\n",
    "                tmp_df['Value'] = original_values\n",
    "            df_with_scaled_value.append(tmp_df)\n",
    "\n",
    "df_final = pd.concat(df_with_scaled_value)\n",
    "df_final.to_csv(\"./processed_files/scaled_oced_clean_data.csv\", index=False)"
   ]
  },
  {
   "cell_type": "markdown",
   "metadata": {
    "collapsed": true
   },
   "source": [
    "#### Scaling Immigration Data"
   ]
  },
  {
   "cell_type": "markdown",
   "metadata": {},
   "source": [
    "Similar logic is also used to scale value of immigration data"
   ]
  },
  {
   "cell_type": "code",
   "execution_count": null,
   "metadata": {
    "collapsed": false
   },
   "outputs": [],
   "source": [
    "df_immi = pd.read_csv(\"./processed_files/immigration_data.csv\")"
   ]
  },
  {
   "cell_type": "code",
   "execution_count": null,
   "metadata": {
    "collapsed": false
   },
   "outputs": [],
   "source": [
    "df_with_rank = []\n",
    "immi_years = df_immi.Year.unique()\n",
    "\n",
    "for year in immi_years:\n",
    "    tmp_df = df_immi.loc[df_immi['Year'] == year]\n",
    "    if not tmp_df.empty:\n",
    "        tmp_df['ScaledValueInflow'] = scale_df(tmp_df['Inflow'])\n",
    "        tmp_df['ScaledValueInflow'] = tmp_df['ScaledValueInflow'].round(2)\n",
    "        tmp_df['ScaledValueNationality'] = scale_df(tmp_df['Nationality'])\n",
    "        tmp_df['ScaledValueNationality'] = tmp_df['ScaledValueNationality'].round(2)\n",
    "        df_with_rank.append(tmp_df)\n",
    "\n",
    "df_immi_final = pd.concat(df_with_rank)\n",
    "df_immi_final.to_csv(\"./processed_files/scaled_immigration_data.csv\",index = False)"
   ]
  },
  {
   "cell_type": "markdown",
   "metadata": {
    "collapsed": true
   },
   "source": [
    "#### Scaling Salary Data"
   ]
  },
  {
   "cell_type": "code",
   "execution_count": null,
   "metadata": {
    "collapsed": true
   },
   "outputs": [],
   "source": [
    "df_salary = pd.read_csv(\"./processed_files/salary_se.csv\")"
   ]
  },
  {
   "cell_type": "code",
   "execution_count": null,
   "metadata": {
    "collapsed": false
   },
   "outputs": [],
   "source": [
    "df_salary['ScaledMedianPay'] = scale_df(df_salary['MEDIAN_PAY_SE'])\n",
    "df_salary['ScaledMedianPay'] = df_salary['ScaledMedianPay'].round(2)\n",
    "df_salary.to_csv(\"./processed_files/scaled_salary_data.csv\",index = False)"
   ]
  },
  {
   "cell_type": "markdown",
   "metadata": {
    "collapsed": true
   },
   "source": [
    "#### Scaling Global Innovation Index Data"
   ]
  },
  {
   "cell_type": "code",
   "execution_count": null,
   "metadata": {
    "collapsed": true
   },
   "outputs": [],
   "source": [
    "df_gii = pd.read_csv(\"./processed_files/global_innovation_index.csv\")"
   ]
  },
  {
   "cell_type": "code",
   "execution_count": null,
   "metadata": {
    "collapsed": false
   },
   "outputs": [],
   "source": [
    "gii_indicators = df_gii.Indicator.unique()\n",
    "df_with_rank = []\n",
    "for indicator in gii_indicators:\n",
    "    tmp_df = df_gii.loc[df_gii['Indicator'] == indicator]\n",
    "    if not tmp_df.empty:\n",
    "        tmp_df['ScaledValue'] = scale_df(tmp_df['Value'])\n",
    "        tmp_df['ScaledValue'] = tmp_df['ScaledValue'].round(2)\n",
    "        df_with_rank.append(tmp_df)\n",
    "\n",
    "df_gii_final = pd.concat(df_with_rank)      \n",
    "df_gii_final.to_csv(\"./processed_files/scaled_global_innovation_index_data.csv\",index = False)"
   ]
  },
  {
   "cell_type": "markdown",
   "metadata": {},
   "source": [
    "## Data Merge "
   ]
  },
  {
   "cell_type": "markdown",
   "metadata": {},
   "source": [
    "The final merged dataframe is generated by combining cleaned data from all four sources and taking the latest values of each factor for each country,"
   ]
  },
  {
   "cell_type": "code",
   "execution_count": null,
   "metadata": {
    "collapsed": true
   },
   "outputs": [],
   "source": [
    "df_oced = pd.read_csv(\"./processed_files/scaled_oced_clean_data.csv\")\n",
    "df_salary = pd.read_csv(\"./processed_files/scaled_salary_data.csv\")\n",
    "df_immigration = pd.read_csv(\"./processed_files/scaled_immigration_data.csv\")\n",
    "df_gii = pd.read_csv(\"./processed_files/scaled_global_innovation_index_data.csv\")"
   ]
  },
  {
   "cell_type": "code",
   "execution_count": null,
   "metadata": {
    "collapsed": true
   },
   "outputs": [],
   "source": [
    "df_oced = df_oced.loc[df_oced['year'] == df_oced.year.max()][['Country','Indicator','Value', 'ScaledValue']]"
   ]
  },
  {
   "cell_type": "code",
   "execution_count": null,
   "metadata": {
    "collapsed": true
   },
   "outputs": [],
   "source": [
    "df_salary['Indicator'] = 'Median Pay'\n",
    "df_salary = df_salary.rename(columns = {'COUNTRY':'Country', 'ScaledMedianPay': 'ScaledValue', 'MEDIAN_PAY_SE': 'Value'})[['Country','Indicator', 'Value', 'ScaledValue']]"
   ]
  },
  {
   "cell_type": "code",
   "execution_count": null,
   "metadata": {
    "collapsed": false
   },
   "outputs": [],
   "source": [
    "df_inflow = df_immigration.loc[df_immigration['Year'] == df_immigration.Year.max()-1][['Country','ScaledValueInflow','Inflow']]\n",
    "df_inflow['Indicator'] = 'Immigration Inflow'\n",
    "df_inflow = df_inflow.rename(columns = {'ScaledValueInflow': 'ScaledValue', 'Inflow': 'Value'})[['Country','Indicator', 'Value', 'ScaledValue']]"
   ]
  },
  {
   "cell_type": "code",
   "execution_count": null,
   "metadata": {
    "collapsed": true
   },
   "outputs": [],
   "source": [
    "df_gii = df_gii[['Country', 'Indicator', 'Value','ScaledValue']]"
   ]
  },
  {
   "cell_type": "code",
   "execution_count": null,
   "metadata": {
    "collapsed": true
   },
   "outputs": [],
   "source": [
    "df_list = [df_oced, df_salary, df_inflow, df_gii]\n",
    "ranked_df = pd.concat(df_list)"
   ]
  },
  {
   "cell_type": "markdown",
   "metadata": {},
   "source": [
    "## Data Categorization"
   ]
  },
  {
   "cell_type": "markdown",
   "metadata": {},
   "source": [
    "Before write the merged dataframe to CSV file, a category is added for each factor based on categories mentioned in below table\n",
    "\n",
    "Indicator | Category\n",
    "--- | --- \n",
    "Self-reported health | Health\n",
    "R&D Spend - % of GDP | Business & Innovation\n",
    "Employment rate | Employment\n",
    "Air pollution | Environment Health\n",
    "Life expectancy | Health\n",
    "Ease of starting a new business | Business & Innovation\n",
    "Median Pay | Financial Health\n",
    "Feeling safe walking alone at night | Safety\n",
    "Immigration Inflow | Ease of Immigration\n",
    "Global Innovation Index | Business & Innovation\n",
    "Immigration Nationality | Ease of Immigration\n",
    "Political Stability/Absence of Terrorism | Safety\n",
    "Water quality | Environment Health\n",
    "Housing expenditure | Financial Health\n",
    "Time devoted to leisure and personal care | Happiness\n",
    "Long-term unemployment rate | Employment\n",
    "Life satisfaction | Happiness"
   ]
  },
  {
   "cell_type": "code",
   "execution_count": null,
   "metadata": {
    "collapsed": false
   },
   "outputs": [],
   "source": [
    "indicator_category = {\n",
    "    'Employment rate': 'Employment',\n",
    "    'Long-term unemployment rate': 'Employment',\n",
    "    'Water quality': 'Environment Health',\n",
    "    'Air pollution': 'Environment Health',\n",
    "    'Life expectancy': 'Health',\n",
    "    'Self-reported health': 'Health',\n",
    "    'Political Stability/Absence of Terrorism':'Safety',\n",
    "    'Feeling safe walking alone at night':'Safety',\n",
    "    'Ease of starting a new business': 'Business & Innovation',\n",
    "    'Global Innovation Index':'Business & Innovation',\n",
    "    'R&D Spend - % of GDP':'Business & Innovation',\n",
    "    'Housing expenditure':'Financial Health',\n",
    "    'Median Pay':'Financial Health',\n",
    "    'Life satisfaction':'Happiness',\n",
    "    'Time devoted to leisure and personal care':'Happiness',\n",
    "    'Immigration Inflow':'Immigration Inflow'\n",
    "}"
   ]
  },
  {
   "cell_type": "markdown",
   "metadata": {},
   "source": [
    "After assigning categories to each row, final dataframe is written to a CSV file"
   ]
  },
  {
   "cell_type": "code",
   "execution_count": null,
   "metadata": {
    "collapsed": false
   },
   "outputs": [],
   "source": [
    "ranked_df['Category'] = \"\"\n",
    "for indicator, category in indicator_category.iteritems():\n",
    "    ranked_df['Category'][ranked_df['Indicator'] == indicator]=category\n",
    "    \n",
    "ranked_df.to_csv(\"./processed_files/country_indicator_scaled_value.csv\",index = False)"
   ]
  },
  {
   "cell_type": "markdown",
   "metadata": {},
   "source": [
    "Pivoting the data frame to reformat data to find countries based on catagory's value in Tableau using slider"
   ]
  },
  {
   "cell_type": "code",
   "execution_count": null,
   "metadata": {
    "collapsed": false
   },
   "outputs": [],
   "source": [
    "input_df = pd.read_csv(\"./processed_files/country_indicator_scaled_value.csv\")\n",
    "categorized_df = input_df[['Country', 'Category', 'ScaledValue']].groupby(['Country', 'Category'], as_index=False).mean()\n",
    "categorized_df['ScaledValue'] = categorized_df['ScaledValue'].round(2)\n",
    "categorized_df = categorized_df.pivot_table('ScaledValue', ['Country'], 'Category')\n",
    "categorized_df.reset_index( drop=False, inplace=True )\n",
    "categorized_df = categorized_df.reindex_axis(['Country', 'Business & Innovation', 'Employment', 'Environment Health', 'Financial Health','Happiness','Health','Immigration Inflow', 'Safety'], axis=1)\n",
    "categorized_df.to_csv(\"./processed_files/country_categorized_values.csv\",index = False)"
   ]
  }
 ],
 "metadata": {
  "kernelspec": {
   "display_name": "Python 2",
   "language": "python",
   "name": "python2"
  },
  "language_info": {
   "codemirror_mode": {
    "name": "ipython",
    "version": 2
   },
   "file_extension": ".py",
   "mimetype": "text/x-python",
   "name": "python",
   "nbconvert_exporter": "python",
   "pygments_lexer": "ipython2",
   "version": "2.7.13"
  }
 },
 "nbformat": 4,
 "nbformat_minor": 2
}
